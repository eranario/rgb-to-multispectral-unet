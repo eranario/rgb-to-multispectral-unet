{
 "cells": [
  {
   "cell_type": "code",
   "execution_count": null,
   "metadata": {},
   "outputs": [],
   "source": [
    "import sys\n",
    "import os\n",
    "sys.path.append(os.path.abspath(\"/data2/eranario/scratch/rgb-to-multispectral-unet\"))"
   ]
  },
  {
   "cell_type": "code",
   "execution_count": null,
   "metadata": {},
   "outputs": [],
   "source": [
    "import torchvision.transforms as transforms\n",
    "import matplotlib.pyplot as plt\n",
    "import torchvision.transforms.functional as F\n",
    "\n",
    "from src.dataset import PotatoDataset\n",
    "from torch.utils.data import DataLoader\n",
    "from PIL import Image"
   ]
  },
  {
   "cell_type": "code",
   "execution_count": null,
   "metadata": {},
   "outputs": [],
   "source": [
    "rgb_dir = \"/data2/eranario/data/Multispectral-Potato/Dataset/RGB_Images\"\n",
    "spectral_dir = \"/data2/eranario/data/Multispectral-Potato/Dataset/Spectral_Images\""
   ]
  },
  {
   "cell_type": "code",
   "execution_count": null,
   "metadata": {},
   "outputs": [],
   "source": [
    "transform = transforms.Compose([\n",
    "    transforms.Resize((224, 224)), \n",
    "    transforms.ToTensor()\n",
    "])"
   ]
  },
  {
   "cell_type": "code",
   "execution_count": null,
   "metadata": {},
   "outputs": [],
   "source": [
    "dataset = PotatoDataset(rgb_dir, spectral_dir, transform=transform)\n",
    "dataloader = DataLoader(dataset, batch_size=4, shuffle=True)"
   ]
  },
  {
   "cell_type": "code",
   "execution_count": null,
   "metadata": {},
   "outputs": [],
   "source": [
    "def show_images(images, titles=None):\n",
    "    \"\"\"\n",
    "    Display a row of images with optional titles.\n",
    "\n",
    "    Args:\n",
    "        images: List of images to display.\n",
    "        titles: List of titles corresponding to each image. (Optional)\n",
    "    \"\"\"\n",
    "    fig, axes = plt.subplots(1, len(images), figsize=(20, 5))  # Display all images in a row\n",
    "    \n",
    "    for i, image in enumerate(images):\n",
    "        # If the image is a tensor, convert to PIL\n",
    "        if not isinstance(image, Image.Image):\n",
    "            image = F.to_pil_image(image[0])\n",
    "        \n",
    "        # Plot the image\n",
    "        axes[i].imshow(image)\n",
    "        # axes[i].axis('off')\n",
    "\n",
    "    for i, title in enumerate(titles):\n",
    "        axes[i+1].set_title(title)\n",
    "        \n",
    "    plt.tight_layout()\n",
    "    plt.show()\n",
    "\n",
    "for images in dataloader:\n",
    "    # just show first image in batch\n",
    "    show_images(images, titles=dataset.channels)\n",
    "    break "
   ]
  },
  {
   "cell_type": "code",
   "execution_count": null,
   "metadata": {},
   "outputs": [],
   "source": [
    "%matplotlib notebook"
   ]
  },
  {
   "cell_type": "code",
   "execution_count": null,
   "metadata": {},
   "outputs": [],
   "source": [
    "import matplotlib.animation as animation\n",
    "\n",
    "def animate_images(images):\n",
    "    \"\"\"\n",
    "    Animate images to check alignment via blinking effect.\n",
    "    \"\"\"\n",
    "    fig = plt.figure()\n",
    "    ims = []\n",
    "    for image in images:\n",
    "        image = F.to_pil_image(image[0])  # Convert to PIL image\n",
    "        im = plt.imshow(image, animated=True)\n",
    "        ims.append([im])\n",
    "\n",
    "    ani = animation.ArtistAnimation(fig, ims, interval=500, blit=True, repeat_delay=2000)\n",
    "    \n",
    "    # Use HTML representation for Jupyter Notebook\n",
    "    from IPython.display import HTML\n",
    "    return HTML(ani.to_jshtml())\n",
    "\n",
    "# Usage\n",
    "for images in dataloader:\n",
    "    display(animate_images(images))\n",
    "    break"
   ]
  }
 ],
 "metadata": {
  "kernelspec": {
   "display_name": "unet",
   "language": "python",
   "name": "python3"
  },
  "language_info": {
   "codemirror_mode": {
    "name": "ipython",
    "version": 3
   },
   "file_extension": ".py",
   "mimetype": "text/x-python",
   "name": "python",
   "nbconvert_exporter": "python",
   "pygments_lexer": "ipython3",
   "version": "3.10.15"
  }
 },
 "nbformat": 4,
 "nbformat_minor": 2
}
